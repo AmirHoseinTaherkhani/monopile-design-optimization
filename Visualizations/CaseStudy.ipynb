{
 "cells": [
  {
   "cell_type": "code",
   "execution_count": 1,
   "id": "da36779a",
   "metadata": {},
   "outputs": [],
   "source": [
    "import numpy as np\n",
    "import pandas as pd\n",
    "import matplotlib.pyplot as plt\n",
    "plt.style.use('seaborn')\n",
    "%matplotlib inline"
   ]
  },
  {
   "cell_type": "code",
   "execution_count": 1,
   "id": "6fa68f4d",
   "metadata": {},
   "outputs": [],
   "source": [
    "p_y = pd.read_excel('cpt.xlsx')"
   ]
  },
  {
   "cell_type": "code",
   "execution_count": null,
   "id": "73e23ef6",
   "metadata": {},
   "outputs": [],
   "source": [
    "p_y.iloc[:,0:1]"
   ]
  },
  {
   "cell_type": "code",
   "execution_count": null,
   "id": "f2790987",
   "metadata": {},
   "outputs": [],
   "source": [
    "def plot(df, x = 'Pile head displacement (m)', y = 'Force (kN)'):\n",
    "    plt.figure(figsize=(4, 8))\n",
    "    plt.xlabel(x) \n",
    "    plt.ylabel(y) \n",
    "#     plt.gca().invert_yaxis()\n",
    "    plt.plot(df.iloc[:,0:1],df.iloc[:,1:2])\n",
    "    plt.savefig('force_dis.png', dpi=300)\n",
    "    return "
   ]
  },
  {
   "cell_type": "code",
   "execution_count": null,
   "id": "f82ac6b5",
   "metadata": {},
   "outputs": [],
   "source": [
    "plot(p_y)"
   ]
  },
  {
   "cell_type": "markdown",
   "id": "c26f8f65",
   "metadata": {},
   "source": [
    "# barchart"
   ]
  },
  {
   "cell_type": "code",
   "execution_count": null,
   "id": "645201f5",
   "metadata": {},
   "outputs": [],
   "source": [
    "H0 = pd.DataFrame({'Ground truth (kN)':[11618], 'Hybrid neural network result (kN)':[11955], 'p-y analysis result (kN)': [18404]})"
   ]
  },
  {
   "cell_type": "code",
   "execution_count": null,
   "id": "c2d331b3",
   "metadata": {},
   "outputs": [],
   "source": [
    "plt.figure(figsize=(4,8))\n",
    "H0.unstack().plot.bar()\n",
    "plt.savefig('barplot.png', dpi = 300)"
   ]
  },
  {
   "cell_type": "code",
   "execution_count": null,
   "id": "9ba5a4f0",
   "metadata": {},
   "outputs": [],
   "source": [
    "cpt = pd.read_csv('test.csv')"
   ]
  },
  {
   "cell_type": "code",
   "execution_count": null,
   "id": "e098b62b",
   "metadata": {},
   "outputs": [],
   "source": [
    "cpt.drop(index=[0,1,2,3,4], inplace = True)\n",
    "cpt.drop(columns=['Unnamed: 0'], axis = 1, inplace = True)"
   ]
  },
  {
   "cell_type": "code",
   "execution_count": null,
   "id": "98bbb7bb",
   "metadata": {},
   "outputs": [],
   "source": [
    "cpt.head()"
   ]
  },
  {
   "cell_type": "code",
   "execution_count": null,
   "id": "ae51ff9e",
   "metadata": {},
   "outputs": [],
   "source": [
    "cpt.reset_index().drop(columns = ['index'], inplace = True)\n",
    "cpt.rename({'0':'Depth', '1':'qc'}, axis = 1, inplace = True)"
   ]
  },
  {
   "cell_type": "code",
   "execution_count": null,
   "id": "80525d45",
   "metadata": {},
   "outputs": [],
   "source": [
    "noise = np.random.normal(loc = 0, scale = .5, size = 229)"
   ]
  },
  {
   "cell_type": "code",
   "execution_count": null,
   "id": "dc024306",
   "metadata": {},
   "outputs": [],
   "source": [
    "cpt['noise']=cpt['qc']+noise"
   ]
  },
  {
   "cell_type": "code",
   "execution_count": null,
   "id": "8681b6a8",
   "metadata": {},
   "outputs": [],
   "source": [
    "def plot_cpt (df, x = 'qc', y = 'depth'):\n",
    "    plt.figure(figsize=(4, 8))\n",
    "    plt.xlabel(x) \n",
    "    plt.ylabel(y) \n",
    "    plt.gca().invert_yaxis()\n",
    "    plt.plot(df[x],df[y])\n",
    "    plt.savefig('cpt_noisy.png', dpi=300)\n",
    "    return "
   ]
  },
  {
   "cell_type": "code",
   "execution_count": null,
   "id": "c3d5a629",
   "metadata": {},
   "outputs": [],
   "source": [
    "plot_cpt(cpt,'noise','Depth')"
   ]
  },
  {
   "cell_type": "markdown",
   "id": "f61e4be2",
   "metadata": {},
   "source": [
    "# Load response curve"
   ]
  },
  {
   "cell_type": "code",
   "execution_count": 2,
   "id": "e2c311e9",
   "metadata": {},
   "outputs": [],
   "source": [
    "theta = np.arange(0,1,0.0001)"
   ]
  },
  {
   "cell_type": "code",
   "execution_count": 3,
   "id": "742aba67",
   "metadata": {},
   "outputs": [],
   "source": [
    "def coef(H05, H1):\n",
    "    etha = 2/H1 - 1/H05\n",
    "    k = 1/H05 - 1/H1\n",
    "    return etha, k"
   ]
  },
  {
   "cell_type": "code",
   "execution_count": 4,
   "id": "44a63ffb",
   "metadata": {},
   "outputs": [],
   "source": [
    "def H(etha, k, theta):\n",
    "    return theta/(k+ etha*theta)"
   ]
  },
  {
   "cell_type": "code",
   "execution_count": 5,
   "id": "e4d5ca6b",
   "metadata": {},
   "outputs": [],
   "source": [
    "theta = np.arange(0,1.4,0.001)"
   ]
  },
  {
   "cell_type": "markdown",
   "id": "b385ada6",
   "metadata": {},
   "source": [
    "## FEM"
   ]
  },
  {
   "cell_type": "code",
   "execution_count": 6,
   "id": "27b6e0c6",
   "metadata": {},
   "outputs": [],
   "source": [
    "fem_etha, fem_k = coef(7674.55, 13114.52)"
   ]
  },
  {
   "cell_type": "code",
   "execution_count": 7,
   "id": "d0b34c01",
   "metadata": {},
   "outputs": [],
   "source": [
    "fem_H = H(fem_etha, fem_k, theta)"
   ]
  },
  {
   "cell_type": "markdown",
   "id": "a3eb7add",
   "metadata": {},
   "source": [
    "## DL"
   ]
  },
  {
   "cell_type": "code",
   "execution_count": 8,
   "id": "52ec47b5",
   "metadata": {},
   "outputs": [],
   "source": [
    "dl_etha, dl_k = coef(7858.74, 13442.38)"
   ]
  },
  {
   "cell_type": "code",
   "execution_count": 9,
   "id": "1b0b3a02",
   "metadata": {},
   "outputs": [],
   "source": [
    "dl_H = H(dl_etha, dl_k, theta)"
   ]
  },
  {
   "cell_type": "markdown",
   "id": "5ce53ee0",
   "metadata": {},
   "source": [
    "## p-y"
   ]
  },
  {
   "cell_type": "code",
   "execution_count": 10,
   "id": "801bc7e5",
   "metadata": {},
   "outputs": [],
   "source": [
    "py_etha, py_k = coef(13499.17, 23053.37)"
   ]
  },
  {
   "cell_type": "code",
   "execution_count": 11,
   "id": "bbcdda6d",
   "metadata": {},
   "outputs": [],
   "source": [
    "py_H = H(py_etha, py_k, theta)"
   ]
  },
  {
   "cell_type": "code",
   "execution_count": 19,
   "id": "21f0909c",
   "metadata": {},
   "outputs": [
    {
     "data": {
      "image/png": "[encoded data removed]",
      "text/plain": [
       "<Figure size 324x403.2 with 1 Axes>"
      ]
     },
     "metadata": {
      "needs_background": "light"
     },
     "output_type": "display_data"
    }
   ],
   "source": [
    "plt.figure(figsize=(4.5,5.6))\n",
    "\n",
    "plt.plot(theta, dl_H,color = 'tab:red', lw = 4, label = 'Proposed DL model')\n",
    "plt.plot(theta, fem_H, color = 'tab:blue', lw = 1.5, label = '3D FE analysis')\n",
    "plt.plot(theta, py_H, '--', color = 'coral', label = r'${P-y}$ method')\n",
    "\n",
    "plt.rc('xtick', labelsize=14) \n",
    "plt.rc('ytick', labelsize=14)\n",
    "plt.rc('font', **{'family' : 'Arial','weight' : 'normal'})\n",
    "\n",
    "plt.xlabel('Pile rotation at mudline (degree)', fontname=\"Arial\", fontsize=16)\n",
    "plt.ylabel('Lateral load (kN)', fontname=\"Arial\", fontsize=16)\n",
    "\n",
    "\n",
    "plt.legend(prop={'size': 14},loc=\"upper left\")\n",
    "\n",
    "plt.tight_layout()\n",
    "plt.savefig('LoadResponse.png', dpi = 300)"
   ]
  },
  {
   "cell_type": "code",
   "execution_count": null,
   "id": "3c209286",
   "metadata": {},
   "outputs": [],
   "source": []
  },
  {
   "cell_type": "code",
   "execution_count": null,
   "id": "901cbbeb",
   "metadata": {},
   "outputs": [],
   "source": []
  }
 ],
 "metadata": {
  "kernelspec": {
   "display_name": "myenv",
   "language": "python",
   "name": "python3"
  },
  "language_info": {
   "codemirror_mode": {
    "name": "ipython",
    "version": 3
   },
   "file_extension": ".py",
   "mimetype": "text/x-python",
   "name": "python",
   "nbconvert_exporter": "python",
   "pygments_lexer": "ipython3",
   "version": "3.10.13"
  },
  "vscode": {
   "interpreter": {
    "hash": "6901832fa9a43c66263cab2402489feb0775158243084f5a8da2127503f2b45f"
   }
  }
 },
 "nbformat": 4,
 "nbformat_minor": 5
}
